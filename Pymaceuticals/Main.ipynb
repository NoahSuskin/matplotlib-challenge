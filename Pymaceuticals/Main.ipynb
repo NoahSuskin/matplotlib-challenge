{
 "cells": [
  {
   "cell_type": "markdown",
   "metadata": {},
   "source": [
    "Noteable Trends:\n",
    "\n",
    "- Strong correlation between average tumor volume and weight of a mouse while on the Capomulin drug regimen (correlation of .84)\n",
    "- Capomulin and Ramicane have lowest two average tumor volume scores, and lowest two standard deviation scores\n",
    "- Of the four most promising regimens infubinol has the highest average tumor volume and highest standard deviation\n",
    "\n",
    "- Limitations: Capomulin and Ramicane were tested on more mice than the other drug regimens which could influence data points such as standard deviation "
   ]
  },
  {
   "cell_type": "code",
   "execution_count": 1,
   "metadata": {},
   "outputs": [],
   "source": [
    "import pandas as pd\n",
    "import numpy as np\n",
    "from matplotlib import pyplot as plt\n",
    "import scipy.stats as sts"
   ]
  },
  {
   "cell_type": "code",
   "execution_count": 2,
   "metadata": {},
   "outputs": [],
   "source": [
    "# Finding csv Paths\n",
    "\n",
    "path1 = '/Users/noahsuskin/Desktop/RU-JER-DATA-PT-04-2020-U-C/Homework/05-Matplotlib/Instructions/Pymaceuticals/data/Mouse_metadata.csv'\n",
    "\n",
    "path2 = '/Users/noahsuskin/Desktop/RU-JER-DATA-PT-04-2020-U-C/Homework/05-Matplotlib/Instructions/Pymaceuticals/data/Study_results.csv'"
   ]
  },
  {
   "cell_type": "code",
   "execution_count": 3,
   "metadata": {},
   "outputs": [],
   "source": [
    "# Reading in CSV paths\n",
    "\n",
    "mouse_df  = pd.read_csv(path1)\n",
    "results_df = pd.read_csv(path2)"
   ]
  },
  {
   "cell_type": "code",
   "execution_count": 4,
   "metadata": {},
   "outputs": [
    {
     "data": {
      "text/html": [
       "<div>\n",
       "<style scoped>\n",
       "    .dataframe tbody tr th:only-of-type {\n",
       "        vertical-align: middle;\n",
       "    }\n",
       "\n",
       "    .dataframe tbody tr th {\n",
       "        vertical-align: top;\n",
       "    }\n",
       "\n",
       "    .dataframe thead th {\n",
       "        text-align: right;\n",
       "    }\n",
       "</style>\n",
       "<table border=\"1\" class=\"dataframe\">\n",
       "  <thead>\n",
       "    <tr style=\"text-align: right;\">\n",
       "      <th></th>\n",
       "      <th>Mouse ID</th>\n",
       "      <th>Drug Regimen</th>\n",
       "      <th>Sex</th>\n",
       "      <th>Age_months</th>\n",
       "      <th>Weight (g)</th>\n",
       "    </tr>\n",
       "  </thead>\n",
       "  <tbody>\n",
       "    <tr>\n",
       "      <th>0</th>\n",
       "      <td>k403</td>\n",
       "      <td>Ramicane</td>\n",
       "      <td>Male</td>\n",
       "      <td>21</td>\n",
       "      <td>16</td>\n",
       "    </tr>\n",
       "    <tr>\n",
       "      <th>1</th>\n",
       "      <td>s185</td>\n",
       "      <td>Capomulin</td>\n",
       "      <td>Female</td>\n",
       "      <td>3</td>\n",
       "      <td>17</td>\n",
       "    </tr>\n",
       "    <tr>\n",
       "      <th>2</th>\n",
       "      <td>x401</td>\n",
       "      <td>Capomulin</td>\n",
       "      <td>Female</td>\n",
       "      <td>16</td>\n",
       "      <td>15</td>\n",
       "    </tr>\n",
       "    <tr>\n",
       "      <th>3</th>\n",
       "      <td>m601</td>\n",
       "      <td>Capomulin</td>\n",
       "      <td>Male</td>\n",
       "      <td>22</td>\n",
       "      <td>17</td>\n",
       "    </tr>\n",
       "    <tr>\n",
       "      <th>4</th>\n",
       "      <td>g791</td>\n",
       "      <td>Ramicane</td>\n",
       "      <td>Male</td>\n",
       "      <td>11</td>\n",
       "      <td>16</td>\n",
       "    </tr>\n",
       "  </tbody>\n",
       "</table>\n",
       "</div>"
      ],
      "text/plain": [
       "  Mouse ID Drug Regimen     Sex  Age_months  Weight (g)\n",
       "0     k403     Ramicane    Male          21          16\n",
       "1     s185    Capomulin  Female           3          17\n",
       "2     x401    Capomulin  Female          16          15\n",
       "3     m601    Capomulin    Male          22          17\n",
       "4     g791     Ramicane    Male          11          16"
      ]
     },
     "execution_count": 4,
     "metadata": {},
     "output_type": "execute_result"
    }
   ],
   "source": [
    "mouse_df.head()"
   ]
  },
  {
   "cell_type": "code",
   "execution_count": 5,
   "metadata": {},
   "outputs": [
    {
     "data": {
      "text/html": [
       "<div>\n",
       "<style scoped>\n",
       "    .dataframe tbody tr th:only-of-type {\n",
       "        vertical-align: middle;\n",
       "    }\n",
       "\n",
       "    .dataframe tbody tr th {\n",
       "        vertical-align: top;\n",
       "    }\n",
       "\n",
       "    .dataframe thead th {\n",
       "        text-align: right;\n",
       "    }\n",
       "</style>\n",
       "<table border=\"1\" class=\"dataframe\">\n",
       "  <thead>\n",
       "    <tr style=\"text-align: right;\">\n",
       "      <th></th>\n",
       "      <th>Mouse ID</th>\n",
       "      <th>Timepoint</th>\n",
       "      <th>Tumor Volume (mm3)</th>\n",
       "      <th>Metastatic Sites</th>\n",
       "    </tr>\n",
       "  </thead>\n",
       "  <tbody>\n",
       "    <tr>\n",
       "      <th>0</th>\n",
       "      <td>b128</td>\n",
       "      <td>0</td>\n",
       "      <td>45.0</td>\n",
       "      <td>0</td>\n",
       "    </tr>\n",
       "    <tr>\n",
       "      <th>1</th>\n",
       "      <td>f932</td>\n",
       "      <td>0</td>\n",
       "      <td>45.0</td>\n",
       "      <td>0</td>\n",
       "    </tr>\n",
       "    <tr>\n",
       "      <th>2</th>\n",
       "      <td>g107</td>\n",
       "      <td>0</td>\n",
       "      <td>45.0</td>\n",
       "      <td>0</td>\n",
       "    </tr>\n",
       "    <tr>\n",
       "      <th>3</th>\n",
       "      <td>a457</td>\n",
       "      <td>0</td>\n",
       "      <td>45.0</td>\n",
       "      <td>0</td>\n",
       "    </tr>\n",
       "    <tr>\n",
       "      <th>4</th>\n",
       "      <td>c819</td>\n",
       "      <td>0</td>\n",
       "      <td>45.0</td>\n",
       "      <td>0</td>\n",
       "    </tr>\n",
       "  </tbody>\n",
       "</table>\n",
       "</div>"
      ],
      "text/plain": [
       "  Mouse ID  Timepoint  Tumor Volume (mm3)  Metastatic Sites\n",
       "0     b128          0                45.0                 0\n",
       "1     f932          0                45.0                 0\n",
       "2     g107          0                45.0                 0\n",
       "3     a457          0                45.0                 0\n",
       "4     c819          0                45.0                 0"
      ]
     },
     "execution_count": 5,
     "metadata": {},
     "output_type": "execute_result"
    }
   ],
   "source": [
    "results_df.head()"
   ]
  },
  {
   "cell_type": "code",
   "execution_count": 6,
   "metadata": {},
   "outputs": [
    {
     "name": "stdout",
     "output_type": "stream",
     "text": [
      "1893\n"
     ]
    },
    {
     "data": {
      "text/html": [
       "<div>\n",
       "<style scoped>\n",
       "    .dataframe tbody tr th:only-of-type {\n",
       "        vertical-align: middle;\n",
       "    }\n",
       "\n",
       "    .dataframe tbody tr th {\n",
       "        vertical-align: top;\n",
       "    }\n",
       "\n",
       "    .dataframe thead th {\n",
       "        text-align: right;\n",
       "    }\n",
       "</style>\n",
       "<table border=\"1\" class=\"dataframe\">\n",
       "  <thead>\n",
       "    <tr style=\"text-align: right;\">\n",
       "      <th></th>\n",
       "      <th>Mouse ID</th>\n",
       "      <th>Timepoint</th>\n",
       "      <th>Tumor Volume (mm3)</th>\n",
       "      <th>Metastatic Sites</th>\n",
       "      <th>Drug Regimen</th>\n",
       "      <th>Sex</th>\n",
       "      <th>Age_months</th>\n",
       "      <th>Weight (g)</th>\n",
       "    </tr>\n",
       "  </thead>\n",
       "  <tbody>\n",
       "    <tr>\n",
       "      <th>0</th>\n",
       "      <td>b128</td>\n",
       "      <td>0</td>\n",
       "      <td>45.000000</td>\n",
       "      <td>0</td>\n",
       "      <td>Capomulin</td>\n",
       "      <td>Female</td>\n",
       "      <td>9</td>\n",
       "      <td>22</td>\n",
       "    </tr>\n",
       "    <tr>\n",
       "      <th>1</th>\n",
       "      <td>b128</td>\n",
       "      <td>5</td>\n",
       "      <td>45.651331</td>\n",
       "      <td>0</td>\n",
       "      <td>Capomulin</td>\n",
       "      <td>Female</td>\n",
       "      <td>9</td>\n",
       "      <td>22</td>\n",
       "    </tr>\n",
       "    <tr>\n",
       "      <th>2</th>\n",
       "      <td>b128</td>\n",
       "      <td>10</td>\n",
       "      <td>43.270852</td>\n",
       "      <td>0</td>\n",
       "      <td>Capomulin</td>\n",
       "      <td>Female</td>\n",
       "      <td>9</td>\n",
       "      <td>22</td>\n",
       "    </tr>\n",
       "    <tr>\n",
       "      <th>3</th>\n",
       "      <td>b128</td>\n",
       "      <td>15</td>\n",
       "      <td>43.784893</td>\n",
       "      <td>0</td>\n",
       "      <td>Capomulin</td>\n",
       "      <td>Female</td>\n",
       "      <td>9</td>\n",
       "      <td>22</td>\n",
       "    </tr>\n",
       "    <tr>\n",
       "      <th>4</th>\n",
       "      <td>b128</td>\n",
       "      <td>20</td>\n",
       "      <td>42.731552</td>\n",
       "      <td>0</td>\n",
       "      <td>Capomulin</td>\n",
       "      <td>Female</td>\n",
       "      <td>9</td>\n",
       "      <td>22</td>\n",
       "    </tr>\n",
       "  </tbody>\n",
       "</table>\n",
       "</div>"
      ],
      "text/plain": [
       "  Mouse ID  Timepoint  Tumor Volume (mm3)  Metastatic Sites Drug Regimen  \\\n",
       "0     b128          0           45.000000                 0    Capomulin   \n",
       "1     b128          5           45.651331                 0    Capomulin   \n",
       "2     b128         10           43.270852                 0    Capomulin   \n",
       "3     b128         15           43.784893                 0    Capomulin   \n",
       "4     b128         20           42.731552                 0    Capomulin   \n",
       "\n",
       "      Sex  Age_months  Weight (g)  \n",
       "0  Female           9          22  \n",
       "1  Female           9          22  \n",
       "2  Female           9          22  \n",
       "3  Female           9          22  \n",
       "4  Female           9          22  "
      ]
     },
     "execution_count": 6,
     "metadata": {},
     "output_type": "execute_result"
    }
   ],
   "source": [
    "# Merging dfs into one single df\n",
    "\n",
    "merged_df = pd.merge(results_df, mouse_df, on='Mouse ID')\n",
    "print(len(merged_df))\n",
    "merged_df.head()"
   ]
  },
  {
   "cell_type": "code",
   "execution_count": 7,
   "metadata": {},
   "outputs": [
    {
     "data": {
      "text/html": [
       "<div>\n",
       "<style scoped>\n",
       "    .dataframe tbody tr th:only-of-type {\n",
       "        vertical-align: middle;\n",
       "    }\n",
       "\n",
       "    .dataframe tbody tr th {\n",
       "        vertical-align: top;\n",
       "    }\n",
       "\n",
       "    .dataframe thead th {\n",
       "        text-align: right;\n",
       "    }\n",
       "</style>\n",
       "<table border=\"1\" class=\"dataframe\">\n",
       "  <thead>\n",
       "    <tr style=\"text-align: right;\">\n",
       "      <th></th>\n",
       "      <th>Mouse ID</th>\n",
       "      <th>Timepoint</th>\n",
       "      <th>Tumor Volume (mm3)</th>\n",
       "      <th>Metastatic Sites</th>\n",
       "      <th>Drug Regimen</th>\n",
       "      <th>Sex</th>\n",
       "      <th>Age_months</th>\n",
       "      <th>Weight (g)</th>\n",
       "    </tr>\n",
       "  </thead>\n",
       "  <tbody>\n",
       "    <tr>\n",
       "      <th>861</th>\n",
       "      <td>g989</td>\n",
       "      <td>0</td>\n",
       "      <td>45.0</td>\n",
       "      <td>0</td>\n",
       "      <td>Propriva</td>\n",
       "      <td>Female</td>\n",
       "      <td>21</td>\n",
       "      <td>26</td>\n",
       "    </tr>\n",
       "  </tbody>\n",
       "</table>\n",
       "</div>"
      ],
      "text/plain": [
       "    Mouse ID  Timepoint  Tumor Volume (mm3)  Metastatic Sites Drug Regimen  \\\n",
       "861     g989          0                45.0                 0     Propriva   \n",
       "\n",
       "        Sex  Age_months  Weight (g)  \n",
       "861  Female          21          26  "
      ]
     },
     "execution_count": 7,
     "metadata": {},
     "output_type": "execute_result"
    }
   ],
   "source": [
    "# Getting rid of Duplicates pt. 1\n",
    "\n",
    "# Duplicate df\n",
    "duplicated_df = merged_df[merged_df.duplicated()]\n",
    "duplicated_df"
   ]
  },
  {
   "cell_type": "code",
   "execution_count": 8,
   "metadata": {},
   "outputs": [
    {
     "name": "stdout",
     "output_type": "stream",
     "text": [
      "1888\n"
     ]
    },
    {
     "data": {
      "text/html": [
       "<div>\n",
       "<style scoped>\n",
       "    .dataframe tbody tr th:only-of-type {\n",
       "        vertical-align: middle;\n",
       "    }\n",
       "\n",
       "    .dataframe tbody tr th {\n",
       "        vertical-align: top;\n",
       "    }\n",
       "\n",
       "    .dataframe thead th {\n",
       "        text-align: right;\n",
       "    }\n",
       "</style>\n",
       "<table border=\"1\" class=\"dataframe\">\n",
       "  <thead>\n",
       "    <tr style=\"text-align: right;\">\n",
       "      <th></th>\n",
       "      <th>Mouse ID</th>\n",
       "      <th>Timepoint</th>\n",
       "      <th>Tumor Volume (mm3)</th>\n",
       "      <th>Metastatic Sites</th>\n",
       "      <th>Drug Regimen</th>\n",
       "      <th>Sex</th>\n",
       "      <th>Age_months</th>\n",
       "      <th>Weight (g)</th>\n",
       "    </tr>\n",
       "  </thead>\n",
       "  <tbody>\n",
       "    <tr>\n",
       "      <th>0</th>\n",
       "      <td>b128</td>\n",
       "      <td>0</td>\n",
       "      <td>45.000000</td>\n",
       "      <td>0</td>\n",
       "      <td>Capomulin</td>\n",
       "      <td>Female</td>\n",
       "      <td>9</td>\n",
       "      <td>22</td>\n",
       "    </tr>\n",
       "    <tr>\n",
       "      <th>1</th>\n",
       "      <td>b128</td>\n",
       "      <td>5</td>\n",
       "      <td>45.651331</td>\n",
       "      <td>0</td>\n",
       "      <td>Capomulin</td>\n",
       "      <td>Female</td>\n",
       "      <td>9</td>\n",
       "      <td>22</td>\n",
       "    </tr>\n",
       "    <tr>\n",
       "      <th>2</th>\n",
       "      <td>b128</td>\n",
       "      <td>10</td>\n",
       "      <td>43.270852</td>\n",
       "      <td>0</td>\n",
       "      <td>Capomulin</td>\n",
       "      <td>Female</td>\n",
       "      <td>9</td>\n",
       "      <td>22</td>\n",
       "    </tr>\n",
       "    <tr>\n",
       "      <th>3</th>\n",
       "      <td>b128</td>\n",
       "      <td>15</td>\n",
       "      <td>43.784893</td>\n",
       "      <td>0</td>\n",
       "      <td>Capomulin</td>\n",
       "      <td>Female</td>\n",
       "      <td>9</td>\n",
       "      <td>22</td>\n",
       "    </tr>\n",
       "    <tr>\n",
       "      <th>4</th>\n",
       "      <td>b128</td>\n",
       "      <td>20</td>\n",
       "      <td>42.731552</td>\n",
       "      <td>0</td>\n",
       "      <td>Capomulin</td>\n",
       "      <td>Female</td>\n",
       "      <td>9</td>\n",
       "      <td>22</td>\n",
       "    </tr>\n",
       "  </tbody>\n",
       "</table>\n",
       "</div>"
      ],
      "text/plain": [
       "  Mouse ID  Timepoint  Tumor Volume (mm3)  Metastatic Sites Drug Regimen  \\\n",
       "0     b128          0           45.000000                 0    Capomulin   \n",
       "1     b128          5           45.651331                 0    Capomulin   \n",
       "2     b128         10           43.270852                 0    Capomulin   \n",
       "3     b128         15           43.784893                 0    Capomulin   \n",
       "4     b128         20           42.731552                 0    Capomulin   \n",
       "\n",
       "      Sex  Age_months  Weight (g)  \n",
       "0  Female           9          22  \n",
       "1  Female           9          22  \n",
       "2  Female           9          22  \n",
       "3  Female           9          22  \n",
       "4  Female           9          22  "
      ]
     },
     "execution_count": 8,
     "metadata": {},
     "output_type": "execute_result"
    }
   ],
   "source": [
    "# Getting rid of Duplicates pt. 2\n",
    "\n",
    "# Clean df\n",
    "clean = merged_df.drop_duplicates(['Mouse ID', 'Timepoint'])\n",
    "print(len(clean))\n",
    "clean.head()"
   ]
  },
  {
   "cell_type": "code",
   "execution_count": 9,
   "metadata": {},
   "outputs": [
    {
     "data": {
      "text/html": [
       "<div>\n",
       "<style scoped>\n",
       "    .dataframe tbody tr th:only-of-type {\n",
       "        vertical-align: middle;\n",
       "    }\n",
       "\n",
       "    .dataframe tbody tr th {\n",
       "        vertical-align: top;\n",
       "    }\n",
       "\n",
       "    .dataframe thead th {\n",
       "        text-align: right;\n",
       "    }\n",
       "</style>\n",
       "<table border=\"1\" class=\"dataframe\">\n",
       "  <thead>\n",
       "    <tr style=\"text-align: right;\">\n",
       "      <th></th>\n",
       "      <th>Tumor Volume Mean</th>\n",
       "      <th>Tumor Volume Median</th>\n",
       "      <th>Tumor Volume Variance</th>\n",
       "      <th>Tumor Volume Standard Deviation</th>\n",
       "      <th>Tumor Volume SEM</th>\n",
       "    </tr>\n",
       "    <tr>\n",
       "      <th>Drug Regimen</th>\n",
       "      <th></th>\n",
       "      <th></th>\n",
       "      <th></th>\n",
       "      <th></th>\n",
       "      <th></th>\n",
       "    </tr>\n",
       "  </thead>\n",
       "  <tbody>\n",
       "    <tr>\n",
       "      <th>Capomulin</th>\n",
       "      <td>40.675741</td>\n",
       "      <td>41.557809</td>\n",
       "      <td>24.947764</td>\n",
       "      <td>4.994774</td>\n",
       "      <td>0.329346</td>\n",
       "    </tr>\n",
       "    <tr>\n",
       "      <th>Ceftamin</th>\n",
       "      <td>52.591172</td>\n",
       "      <td>51.776157</td>\n",
       "      <td>39.290177</td>\n",
       "      <td>6.268188</td>\n",
       "      <td>0.469821</td>\n",
       "    </tr>\n",
       "    <tr>\n",
       "      <th>Infubinol</th>\n",
       "      <td>52.884795</td>\n",
       "      <td>51.820584</td>\n",
       "      <td>43.128684</td>\n",
       "      <td>6.567243</td>\n",
       "      <td>0.492236</td>\n",
       "    </tr>\n",
       "    <tr>\n",
       "      <th>Ketapril</th>\n",
       "      <td>55.235638</td>\n",
       "      <td>53.698743</td>\n",
       "      <td>68.553577</td>\n",
       "      <td>8.279709</td>\n",
       "      <td>0.603860</td>\n",
       "    </tr>\n",
       "    <tr>\n",
       "      <th>Naftisol</th>\n",
       "      <td>54.331565</td>\n",
       "      <td>52.509285</td>\n",
       "      <td>66.173479</td>\n",
       "      <td>8.134708</td>\n",
       "      <td>0.596466</td>\n",
       "    </tr>\n",
       "    <tr>\n",
       "      <th>Placebo</th>\n",
       "      <td>54.033581</td>\n",
       "      <td>52.288934</td>\n",
       "      <td>61.168083</td>\n",
       "      <td>7.821003</td>\n",
       "      <td>0.581331</td>\n",
       "    </tr>\n",
       "    <tr>\n",
       "      <th>Propriva</th>\n",
       "      <td>52.322552</td>\n",
       "      <td>50.854632</td>\n",
       "      <td>42.351070</td>\n",
       "      <td>6.507770</td>\n",
       "      <td>0.512884</td>\n",
       "    </tr>\n",
       "    <tr>\n",
       "      <th>Ramicane</th>\n",
       "      <td>40.216745</td>\n",
       "      <td>40.673236</td>\n",
       "      <td>23.486704</td>\n",
       "      <td>4.846308</td>\n",
       "      <td>0.320955</td>\n",
       "    </tr>\n",
       "    <tr>\n",
       "      <th>Stelasyn</th>\n",
       "      <td>54.233149</td>\n",
       "      <td>52.431737</td>\n",
       "      <td>59.450562</td>\n",
       "      <td>7.710419</td>\n",
       "      <td>0.573111</td>\n",
       "    </tr>\n",
       "    <tr>\n",
       "      <th>Zoniferol</th>\n",
       "      <td>53.236507</td>\n",
       "      <td>51.818479</td>\n",
       "      <td>48.533355</td>\n",
       "      <td>6.966589</td>\n",
       "      <td>0.516398</td>\n",
       "    </tr>\n",
       "  </tbody>\n",
       "</table>\n",
       "</div>"
      ],
      "text/plain": [
       "              Tumor Volume Mean  Tumor Volume Median  Tumor Volume Variance  \\\n",
       "Drug Regimen                                                                  \n",
       "Capomulin             40.675741            41.557809              24.947764   \n",
       "Ceftamin              52.591172            51.776157              39.290177   \n",
       "Infubinol             52.884795            51.820584              43.128684   \n",
       "Ketapril              55.235638            53.698743              68.553577   \n",
       "Naftisol              54.331565            52.509285              66.173479   \n",
       "Placebo               54.033581            52.288934              61.168083   \n",
       "Propriva              52.322552            50.854632              42.351070   \n",
       "Ramicane              40.216745            40.673236              23.486704   \n",
       "Stelasyn              54.233149            52.431737              59.450562   \n",
       "Zoniferol             53.236507            51.818479              48.533355   \n",
       "\n",
       "              Tumor Volume Standard Deviation  Tumor Volume SEM  \n",
       "Drug Regimen                                                     \n",
       "Capomulin                            4.994774          0.329346  \n",
       "Ceftamin                             6.268188          0.469821  \n",
       "Infubinol                            6.567243          0.492236  \n",
       "Ketapril                             8.279709          0.603860  \n",
       "Naftisol                             8.134708          0.596466  \n",
       "Placebo                              7.821003          0.581331  \n",
       "Propriva                             6.507770          0.512884  \n",
       "Ramicane                             4.846308          0.320955  \n",
       "Stelasyn                             7.710419          0.573111  \n",
       "Zoniferol                            6.966589          0.516398  "
      ]
     },
     "execution_count": 9,
     "metadata": {},
     "output_type": "execute_result"
    }
   ],
   "source": [
    "# Summary Statistics table\n",
    "\n",
    "# Mean\n",
    "summary_df = merged_df[['Tumor Volume (mm3)', 'Drug Regimen']].groupby(['Drug Regimen']).mean()\n",
    "\n",
    "# Median\n",
    "summary_df['Tumor Volume Median'] = merged_df[['Tumor Volume (mm3)', 'Drug Regimen']].groupby(['Drug Regimen']).median()\n",
    "\n",
    "# Variance\n",
    "summary_df['Tumor Volume Variance'] = merged_df[['Tumor Volume (mm3)', 'Drug Regimen']].groupby(['Drug Regimen']).var()\n",
    "\n",
    "# Standard Deviation\n",
    "summary_df['Tumor Volume Standard Deviation'] = merged_df[['Tumor Volume (mm3)', 'Drug Regimen']].groupby(['Drug Regimen']).std()\n",
    "\n",
    "# Standard Error\n",
    "summary_df['Tumor Volume SEM'] = merged_df[['Tumor Volume (mm3)', 'Drug Regimen']].groupby(['Drug Regimen']).sem()\n",
    "\n",
    "\n",
    "\n",
    "# Formatting\n",
    "summary_df = summary_df.rename(columns={'Tumor Volume (mm3)': 'Tumor Volume Mean'})\n",
    "\n",
    "summary_df"
   ]
  },
  {
   "cell_type": "code",
   "execution_count": 10,
   "metadata": {},
   "outputs": [
    {
     "data": {
      "image/png": "[encoded data removed]",
      "text/plain": [
       "<Figure size 432x288 with 1 Axes>"
      ]
     },
     "metadata": {
      "needs_background": "light"
     },
     "output_type": "display_data"
    },
    {
     "data": {
      "text/plain": [
       "<Figure size 432x288 with 0 Axes>"
      ]
     },
     "metadata": {},
     "output_type": "display_data"
    }
   ],
   "source": [
    "# Pandas Bar Plots\n",
    "\n",
    "# Creating dataframe which holds the values to be plotted\n",
    "mice_count = merged_df.groupby(['Drug Regimen']).count()\n",
    "mice_count.sort_values('Mouse ID', ascending=False, inplace=True)\n",
    "mice_count = mice_count['Mouse ID']\n",
    "mice_count\n",
    "\n",
    "# Plotting the values using pandas plot method\n",
    "mice_plot = mice_count.plot(kind='bar')\n",
    "plt.ylabel('Number of Data Points')\n",
    "plt.show()\n",
    "plt.tight_layout()"
   ]
  },
  {
   "cell_type": "code",
   "execution_count": 11,
   "metadata": {},
   "outputs": [
    {
     "data": {
      "image/png": "[encoded data removed]",
      "text/plain": [
       "<Figure size 432x288 with 1 Axes>"
      ]
     },
     "metadata": {
      "needs_background": "light"
     },
     "output_type": "display_data"
    },
    {
     "data": {
      "text/plain": [
       "<Figure size 432x288 with 0 Axes>"
      ]
     },
     "metadata": {},
     "output_type": "display_data"
    }
   ],
   "source": [
    "# Matplotlib Bar Plots \n",
    "\n",
    "# Using the same df from previous code block to create the df we want to plot\n",
    "mice_count\n",
    "\n",
    "# Using matplotlib to plot points\n",
    "\n",
    "# Creating x and y axis\n",
    "x = np.arange(len(mice_count))\n",
    "y = mice_count.values\n",
    "\n",
    "# creating the labels for the x axis\n",
    "x_labels = mice_count.reset_index()\n",
    "x_labels = x_labels['Drug Regimen']\n",
    "\n",
    "# plotting using matplotlib\n",
    "ax = plt.bar(x, y)\n",
    "plt.xticks(x, x_labels, rotation=90)\n",
    "plt.show()\n",
    "plt.tight_layout()"
   ]
  },
  {
   "cell_type": "code",
   "execution_count": 12,
   "metadata": {},
   "outputs": [
    {
     "data": {
      "image/png": "[encoded data removed]",
      "text/plain": [
       "<Figure size 432x288 with 1 Axes>"
      ]
     },
     "metadata": {},
     "output_type": "display_data"
    }
   ],
   "source": [
    "# Pandas Pie Chart\n",
    "\n",
    "# Creating df to plot values\n",
    "sex_count = merged_df.groupby('Sex')['Mouse ID'].count()\n",
    "\n",
    "# Plotting using Pandas plot\n",
    "pie_plot = sex_count.plot(kind='pie', autopct='%1.1f%%')\n",
    "plt.ylabel('Sex')\n",
    "plt.show()\n"
   ]
  },
  {
   "cell_type": "code",
   "execution_count": 13,
   "metadata": {},
   "outputs": [
    {
     "data": {
      "image/png": "[encoded data removed]",
      "text/plain": [
       "<Figure size 432x288 with 1 Axes>"
      ]
     },
     "metadata": {},
     "output_type": "display_data"
    }
   ],
   "source": [
    "# Matplotlib Pie Chart\n",
    "\n",
    "# Using previous defined df for values to plot\n",
    "sex_count\n",
    "\n",
    "# Setting values to be plotted\n",
    "plot_values = sex_count.values\n",
    "plot_labels = sex_count.index\n",
    "\n",
    "# Plotting using matplotlib\n",
    "plt.pie(plot_values, autopct='%1.1f%%', labels=plot_labels)\n",
    "plt.ylabel('Sex')\n",
    "plt.show()"
   ]
  },
  {
   "cell_type": "code",
   "execution_count": 14,
   "metadata": {},
   "outputs": [
    {
     "name": "stdout",
     "output_type": "stream",
     "text": [
      "Capomulin has 0 outliers\n"
     ]
    }
   ],
   "source": [
    "# Box Plots\n",
    "\n",
    "# Creating df with latest timepoint for each mouse\n",
    "timepoint_df = merged_df.groupby(['Mouse ID'])['Timepoint'].max()\n",
    "timepoint_df.reset_index()\n",
    "final_tumor_vol_df = pd.merge(timepoint_df, merged_df, how='left', on=['Mouse ID', 'Timepoint'])\n",
    "\n",
    "\n",
    "# Capomulin df\n",
    "Capomulin_vol_df = final_tumor_vol_df[final_tumor_vol_df['Drug Regimen'] == 'Capomulin']\n",
    "Capomulin_vol_df = Capomulin_vol_df['Tumor Volume (mm3)']\n",
    "\n",
    "# Calculating Quartiles and IQR\n",
    "Capomulin_quartiles = Capomulin_vol_df.quantile([.25, .5, .75])\n",
    "Capomulin_lowerq = Capomulin_quartiles[.25]\n",
    "Capomulin_upperq = Capomulin_quartiles[.75]\n",
    "Capomulin_median = Capomulin_quartiles[.5]\n",
    "Capomulin_IQR = Capomulin_upperq - Capomulin_lowerq\n",
    "\n",
    "# Outlier computations\n",
    "Capomulin_lowerb = Capomulin_lowerq - (1.5 * Capomulin_IQR)\n",
    "Capomulin_upperb = Capomulin_upperq + (1.5 * Capomulin_IQR)\n",
    "\n",
    "# Creating Outlier DF\n",
    "outlier_df = Capomulin_vol_df.reset_index()\n",
    "outlier_df = outlier_df[(outlier_df['Tumor Volume (mm3)'] > Capomulin_upperb) | (outlier_df['Tumor Volume (mm3)'] < Capomulin_lowerb)]\n",
    "\n",
    "# Counting the Number of Outliers in the df\n",
    "Capomulin_outlier_count = len(outlier_df)\n",
    "print(f\"Capomulin has {Capomulin_outlier_count} outliers\")"
   ]
  },
  {
   "cell_type": "code",
   "execution_count": 15,
   "metadata": {},
   "outputs": [
    {
     "name": "stdout",
     "output_type": "stream",
     "text": [
      "Ramicane has 0 outliers\n"
     ]
    }
   ],
   "source": [
    "# Box Plots\n",
    "# Ramicane DF\n",
    "\n",
    "Ramicane_vol_df = final_tumor_vol_df[final_tumor_vol_df['Drug Regimen'] == 'Ramicane']\n",
    "Ramicane_vol_df = Ramicane_vol_df['Tumor Volume (mm3)']\n",
    "\n",
    "# Calculating Quartiles and IQR\n",
    "\n",
    "Ramicane_quartiles = Ramicane_vol_df.quantile([.25, .5, .75])\n",
    "Ramicane_lowerq = Ramicane_quartiles[.25]\n",
    "Ramicane_upperq = Ramicane_quartiles[.75]\n",
    "Ramicane_median = Ramicane_quartiles[.5]\n",
    "Ramicane_IQR = Ramicane_upperq - Ramicane_lowerq\n",
    "\n",
    "# Outlier computations\n",
    "Ramicane_lowerb = Ramicane_lowerq - (1.5 * Ramicane_IQR)\n",
    "Ramicane_upperb = Ramicane_upperq + (1.5 * Ramicane_IQR)\n",
    "\n",
    "# Creating Outlier DF\n",
    "Ramicane_outlier_df = Ramicane_vol_df.reset_index()\n",
    "Ramicane_outlier_df = Ramicane_outlier_df[(Ramicane_outlier_df['Tumor Volume (mm3)'] > Ramicane_upperb) | (Ramicane_outlier_df['Tumor Volume (mm3)'] < Ramicane_lowerb)]\n",
    "\n",
    "# Counting the Number of Outliers in the df\n",
    "Ramicane_outlier_count = len(Ramicane_outlier_df)\n",
    "print(f\"Ramicane has {Ramicane_outlier_count} outliers\")"
   ]
  },
  {
   "cell_type": "code",
   "execution_count": 16,
   "metadata": {},
   "outputs": [
    {
     "name": "stdout",
     "output_type": "stream",
     "text": [
      "Infubinol has 1 outliers\n"
     ]
    }
   ],
   "source": [
    "# Box Plots\n",
    "# Infubinol DF\n",
    "\n",
    "Infubinol_vol_df = final_tumor_vol_df[final_tumor_vol_df['Drug Regimen'] == 'Infubinol']\n",
    "Infubinol_vol_df = Infubinol_vol_df['Tumor Volume (mm3)']\n",
    "\n",
    "# Calculating Quartiles and IQR\n",
    "\n",
    "Infubinol_quartiles = Infubinol_vol_df.quantile([.25, .5, .75])\n",
    "Infubinol_lowerq = Infubinol_quartiles[.25]\n",
    "Infubinol_upperq = Infubinol_quartiles[.75]\n",
    "Infubinol_median = Infubinol_quartiles[.5]\n",
    "Infubinol_IQR = Infubinol_upperq - Infubinol_lowerq\n",
    "\n",
    "# Outlier computations\n",
    "Infubinol_lowerb = Infubinol_lowerq - (1.5 * Infubinol_IQR)\n",
    "Infubinol_upperb = Infubinol_upperq + (1.5 * Infubinol_IQR)\n",
    "\n",
    "\n",
    "# Creating Outlier DF\n",
    "Infubinol_outlier_df = Infubinol_vol_df.reset_index()\n",
    "Infubinol_outlier_df = Infubinol_outlier_df[(Infubinol_outlier_df['Tumor Volume (mm3)'] > Infubinol_upperb) | (Infubinol_outlier_df['Tumor Volume (mm3)'] < Infubinol_lowerb)]\n",
    "\n",
    "\n",
    "# Counting the Number of Outliers in the df\n",
    "Infubinol_outlier_count = len(Infubinol_outlier_df)\n",
    "print(f\"Infubinol has {Infubinol_outlier_count} outliers\")"
   ]
  },
  {
   "cell_type": "code",
   "execution_count": 17,
   "metadata": {},
   "outputs": [
    {
     "name": "stdout",
     "output_type": "stream",
     "text": [
      "Ceftamin has 0 outliers\n"
     ]
    }
   ],
   "source": [
    "# Box Plots\n",
    "# Ceftamin DF\n",
    "\n",
    "Ceftamin_vol_df = final_tumor_vol_df[final_tumor_vol_df['Drug Regimen'] == 'Ceftamin']\n",
    "Ceftamin_vol_df = Ceftamin_vol_df['Tumor Volume (mm3)']\n",
    "\n",
    "# Calculating Quartiles and IQR\n",
    "\n",
    "Ceftamin_quartiles = Ceftamin_vol_df.quantile([.25, .5, .75])\n",
    "Ceftamin_lowerq = Ceftamin_quartiles[.25]\n",
    "Ceftamin_upperq = Ceftamin_quartiles[.75]\n",
    "Ceftamin_median = Ceftamin_quartiles[.5]\n",
    "Ceftamin_IQR = Ceftamin_upperq - Ceftamin_lowerq\n",
    "\n",
    "# Outlier computations\n",
    "Ceftamin_lowerb = Ceftamin_lowerq - (1.5 * Ceftamin_IQR)\n",
    "Ceftamin_upperb = Ceftamin_upperq + (1.5 * Ceftamin_IQR)\n",
    "\n",
    "\n",
    "# Creating Outlier DF\n",
    "Ceftamin_outlier_df = Ceftamin_vol_df.reset_index()\n",
    "Ceftamin_outlier_df = Ceftamin_outlier_df[(Ceftamin_outlier_df['Tumor Volume (mm3)'] > Ceftamin_upperb) | (Ceftamin_outlier_df['Tumor Volume (mm3)'] < Ceftamin_lowerb)]\n",
    "\n",
    "# Counting the Number of Outliers in the df\n",
    "Ceftamin_outlier_count = len(Ceftamin_outlier_df)\n",
    "print(f\"Ceftamin has {Ceftamin_outlier_count} outliers\")"
   ]
  },
  {
   "cell_type": "code",
   "execution_count": 18,
   "metadata": {},
   "outputs": [
    {
     "data": {
      "image/png": "[encoded data removed]",
      "text/plain": [
       "<Figure size 432x288 with 1 Axes>"
      ]
     },
     "metadata": {
      "needs_background": "light"
     },
     "output_type": "display_data"
    }
   ],
   "source": [
    "# Box Plots\n",
    "\n",
    "# Creating the df with points to plot\n",
    "full_df = pd.DataFrame()\n",
    "full_df['Capomulin'] = Capomulin_vol_df.values\n",
    "full_df['Ramicane'] = Ramicane_vol_df.values\n",
    "full_df['Infubinol'] = Infubinol_vol_df.values\n",
    "full_df['Ceftamin'] = Ceftamin_vol_df.values\n",
    "full_df.reset_index(inplace=True)\n",
    "full_df = full_df[full_df.columns.difference(['index'])]\n",
    "\n",
    "\n",
    "# Plotting\n",
    "# Changing outlier markers\n",
    "outlier_marker = dict(markerfacecolor='r', marker='o')\n",
    "plt.boxplot(full_df.values, labels=full_df.columns, flierprops=outlier_marker)\n",
    "plt.ylabel('Tumor Volume (mm3)')\n",
    "\n",
    "plt.show()"
   ]
  },
  {
   "cell_type": "code",
   "execution_count": 19,
   "metadata": {},
   "outputs": [
    {
     "data": {
      "image/png": "[encoded data removed]",
      "text/plain": [
       "<Figure size 432x288 with 1 Axes>"
      ]
     },
     "metadata": {
      "needs_background": "light"
     },
     "output_type": "display_data"
    }
   ],
   "source": [
    "# Line Plot\n",
    "\n",
    "# figuring out which mouse we want to plot\n",
    "mouse_id = 'l509'\n",
    "\n",
    "# Creating the capomulin df\n",
    "lineplot_capomulin_df = merged_df[(merged_df['Drug Regimen'] == 'Capomulin') & (merged_df['Mouse ID'] == mouse_id)]\n",
    "\n",
    "# Creating x and y axis\n",
    "x = lineplot_capomulin_df['Timepoint']\n",
    "y = lineplot_capomulin_df['Tumor Volume (mm3)']\n",
    "\n",
    "# Plotting\n",
    "plt.plot(x, y)\n",
    "plt.xlabel('Timepoint (Days)')\n",
    "plt.ylabel('Tumor Volume (mm3)')\n",
    "plt.title(f\"Capomulin treatment for mouse {mouse_id}\")\n",
    "plt.show()"
   ]
  },
  {
   "cell_type": "code",
   "execution_count": 20,
   "metadata": {},
   "outputs": [
    {
     "data": {
      "image/png": "[encoded data removed]",
      "text/plain": [
       "<Figure size 432x288 with 1 Axes>"
      ]
     },
     "metadata": {
      "needs_background": "light"
     },
     "output_type": "display_data"
    }
   ],
   "source": [
    "# Scatter Plot\n",
    "\n",
    "# Creating Capomulin df\n",
    "scatter_df = merged_df[merged_df['Drug Regimen'] == 'Capomulin']\n",
    "scatter_df = scatter_df.groupby(['Mouse ID']).mean()\n",
    "scatter_df = scatter_df[['Tumor Volume (mm3)', 'Weight (g)']]\n",
    "\n",
    "# Creating x and y axis\n",
    "x = scatter_df['Weight (g)']\n",
    "y = scatter_df['Tumor Volume (mm3)']\n",
    "\n",
    "# Plotting\n",
    "plt.scatter(x, y)\n",
    "plt.xlabel('Weight (g)')\n",
    "plt.ylabel('Tumor Volume (mm3)')\n",
    "plt.show()"
   ]
  },
  {
   "cell_type": "code",
   "execution_count": 21,
   "metadata": {},
   "outputs": [
    {
     "name": "stdout",
     "output_type": "stream",
     "text": [
      "The correlation between mouse weight and the average tumor volume is 0.84\n"
     ]
    }
   ],
   "source": [
    "# Correlation and Regression\n",
    "\n",
    "# Finding Correlation\n",
    "# Using x and y from previous code block\n",
    "correlation = round((sts.pearsonr(x, y)[0]), 2)\n",
    "print( f\"The correlation between mouse weight and the average tumor volume is {correlation}\")"
   ]
  },
  {
   "cell_type": "code",
   "execution_count": 22,
   "metadata": {},
   "outputs": [
    {
     "data": {
      "image/png": "[encoded data removed]",
      "text/plain": [
       "<Figure size 432x288 with 1 Axes>"
      ]
     },
     "metadata": {
      "needs_background": "light"
     },
     "output_type": "display_data"
    }
   ],
   "source": [
    "# Plot Regression\n",
    "\n",
    "# Using x and y from previous code block\n",
    "# Create linear regression variables\n",
    "tumor_vol_slope, tumor_vol_int, tumor_vol_r, tumor_vol_p, tumor_vol_std_err = sts.linregress(x, y)\n",
    "\n",
    "# Create regression line values\n",
    "regression_fit = tumor_vol_slope * x + tumor_vol_int\n",
    "\n",
    "# Plot regression line and scatter plot\n",
    "plt.plot(x ,regression_fit, c='r')\n",
    "plt.scatter(x,y)\n",
    "plt.xlabel('Weight (g)')\n",
    "plt.ylabel('Average Tumor Volume (mm3)')\n",
    "plt.show()\n",
    "\n"
   ]
  },
  {
   "cell_type": "code",
   "execution_count": null,
   "metadata": {},
   "outputs": [],
   "source": []
  },
  {
   "cell_type": "code",
   "execution_count": null,
   "metadata": {},
   "outputs": [],
   "source": []
  },
  {
   "cell_type": "code",
   "execution_count": null,
   "metadata": {},
   "outputs": [],
   "source": []
  },
  {
   "cell_type": "code",
   "execution_count": null,
   "metadata": {},
   "outputs": [],
   "source": []
  }
 ],
 "metadata": {
  "kernelspec": {
   "display_name": "Python 3",
   "language": "python",
   "name": "python3"
  },
  "language_info": {
   "codemirror_mode": {
    "name": "ipython",
    "version": 3
   },
   "file_extension": ".py",
   "mimetype": "text/x-python",
   "name": "python",
   "nbconvert_exporter": "python",
   "pygments_lexer": "ipython3",
   "version": "3.7.7"
  }
 },
 "nbformat": 4,
 "nbformat_minor": 4
}
